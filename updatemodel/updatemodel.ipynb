{
  "nbformat": 4,
  "nbformat_minor": 0,
  "metadata": {
    "colab": {
      "provenance": [],
      "authorship_tag": "ABX9TyNTd4yGNxzo6P2VYi2RtK5i",
      "include_colab_link": true
    },
    "kernelspec": {
      "name": "python3",
      "display_name": "Python 3"
    },
    "language_info": {
      "name": "python"
    }
  },
  "cells": [
    {
      "cell_type": "markdown",
      "metadata": {
        "id": "view-in-github",
        "colab_type": "text"
      },
      "source": [
        "<a href=\"https://colab.research.google.com/github/eli-mancini/SnowMachine/blob/main/updatemodel.ipynb\" target=\"_parent\"><img src=\"https://colab.research.google.com/assets/colab-badge.svg\" alt=\"Open In Colab\"/></a>"
      ]
    },
    {
      "cell_type": "code",
      "execution_count": 2,
      "metadata": {
        "colab": {
          "base_uri": "https://localhost:8080/"
        },
        "id": "Dgh_l89QtRY4",
        "outputId": "b64dcc6d-d560-4270-a461-95a9fd27160d"
      },
      "outputs": [
        {
          "output_type": "stream",
          "name": "stdout",
          "text": [
            "Cloning into 'SnowMachine'...\n",
            "remote: Enumerating objects: 479, done.\u001b[K\n",
            "remote: Counting objects: 100% (274/274), done.\u001b[K\n",
            "remote: Compressing objects: 100% (148/148), done.\u001b[K\n",
            "remote: Total 479 (delta 159), reused 207 (delta 119), pack-reused 205 (from 1)\u001b[K\n",
            "Receiving objects: 100% (479/479), 61.15 MiB | 37.36 MiB/s, done.\n",
            "Resolving deltas: 100% (265/265), done.\n",
            "/content/SnowMachine\n",
            "Collecting pretrainedmodels\n",
            "  Downloading pretrainedmodels-0.7.4.tar.gz (58 kB)\n",
            "\u001b[2K     \u001b[90m━━━━━━━━━━━━━━━━━━━━━━━━━━━━━━━━━━━━━━━━\u001b[0m \u001b[32m58.8/58.8 kB\u001b[0m \u001b[31m2.6 MB/s\u001b[0m eta \u001b[36m0:00:00\u001b[0m\n",
            "\u001b[?25h  Preparing metadata (setup.py) ... \u001b[?25l\u001b[?25hdone\n",
            "Requirement already satisfied: torch in /usr/local/lib/python3.10/dist-packages (from pretrainedmodels) (2.5.1+cu121)\n",
            "Requirement already satisfied: torchvision in /usr/local/lib/python3.10/dist-packages (from pretrainedmodels) (0.20.1+cu121)\n",
            "Collecting munch (from pretrainedmodels)\n",
            "  Downloading munch-4.0.0-py2.py3-none-any.whl.metadata (5.9 kB)\n",
            "Requirement already satisfied: tqdm in /usr/local/lib/python3.10/dist-packages (from pretrainedmodels) (4.66.6)\n",
            "Requirement already satisfied: filelock in /usr/local/lib/python3.10/dist-packages (from torch->pretrainedmodels) (3.16.1)\n",
            "Requirement already satisfied: typing-extensions>=4.8.0 in /usr/local/lib/python3.10/dist-packages (from torch->pretrainedmodels) (4.12.2)\n",
            "Requirement already satisfied: networkx in /usr/local/lib/python3.10/dist-packages (from torch->pretrainedmodels) (3.4.2)\n",
            "Requirement already satisfied: jinja2 in /usr/local/lib/python3.10/dist-packages (from torch->pretrainedmodels) (3.1.4)\n",
            "Requirement already satisfied: fsspec in /usr/local/lib/python3.10/dist-packages (from torch->pretrainedmodels) (2024.10.0)\n",
            "Requirement already satisfied: sympy==1.13.1 in /usr/local/lib/python3.10/dist-packages (from torch->pretrainedmodels) (1.13.1)\n",
            "Requirement already satisfied: mpmath<1.4,>=1.1.0 in /usr/local/lib/python3.10/dist-packages (from sympy==1.13.1->torch->pretrainedmodels) (1.3.0)\n",
            "Requirement already satisfied: numpy in /usr/local/lib/python3.10/dist-packages (from torchvision->pretrainedmodels) (1.26.4)\n",
            "Requirement already satisfied: pillow!=8.3.*,>=5.3.0 in /usr/local/lib/python3.10/dist-packages (from torchvision->pretrainedmodels) (11.0.0)\n",
            "Requirement already satisfied: MarkupSafe>=2.0 in /usr/local/lib/python3.10/dist-packages (from jinja2->torch->pretrainedmodels) (3.0.2)\n",
            "Downloading munch-4.0.0-py2.py3-none-any.whl (9.9 kB)\n",
            "Building wheels for collected packages: pretrainedmodels\n",
            "  Building wheel for pretrainedmodels (setup.py) ... \u001b[?25l\u001b[?25hdone\n",
            "  Created wheel for pretrainedmodels: filename=pretrainedmodels-0.7.4-py3-none-any.whl size=60944 sha256=4f0e7540a21875c18df459ec969adcf0d7d1375f45bf72d50579365018df5862\n",
            "  Stored in directory: /root/.cache/pip/wheels/35/cb/a5/8f534c60142835bfc889f9a482e4a67e0b817032d9c6883b64\n",
            "Successfully built pretrainedmodels\n",
            "Installing collected packages: munch, pretrainedmodels\n",
            "Successfully installed munch-4.0.0 pretrainedmodels-0.7.4\n"
          ]
        }
      ],
      "source": [
        "'''\n",
        "Catherine Breen\n",
        "cbreen@uw.edu\n",
        "adapted from:\n",
        "https://debuggercafe.com/advanced-facial-keypoint-detection-with-pytorch/\n",
        "\n",
        "'''\n",
        "!git clone https://github.com/eli-mancini/SnowMachine\n",
        "%cd SnowMachine\n",
        "import torch.nn as nn\n",
        "import torch.nn.functional as F\n",
        "!pip install pretrainedmodels\n",
        "import pretrainedmodels\n",
        "\n",
        "class snowPoleResNet50(nn.Module):\n",
        "    def __init__(self, pretrained, requires_grad):\n",
        "        super(snowPoleResNet50, self).__init__()\n",
        "        if pretrained == True:\n",
        "            self.model = pretrainedmodels.__dict__['resnet50'](pretrained='imagenet')\n",
        "        else:\n",
        "            self.model = pretrainedmodels.__dict__['resnet50'](pretrained=None)\n",
        "        if requires_grad == True:\n",
        "            for param in self.model.parameters():\n",
        "                param.requires_grad = True\n",
        "            print('Training intermediate layer parameters...')\n",
        "        elif requires_grad == False:\n",
        "            for param in self.model.parameters():\n",
        "                param.requires_grad = False\n",
        "            print('Freezing intermediate layer parameters...')\n",
        "        # change the final layer\n",
        "        self.l0 = nn.Linear(2048, 4)  #### the second value is the number of points you want to predict\n",
        "\n",
        "    def forward(self, x):\n",
        "        # get the batch size only, ignore (c, h, w)\n",
        "        batch, _, _, _ = x.shape\n",
        "        x = self.model.features(x)\n",
        "        x = F.adaptive_avg_pool2d(x, 1).reshape(batch, -1)\n",
        "        l0 = self.l0(x)\n",
        "        return l0"
      ]
    }
  ]
}
