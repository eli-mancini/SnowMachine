{
  "nbformat": 4,
  "nbformat_minor": 0,
  "metadata": {
    "colab": {
      "provenance": [],
      "authorship_tag": "ABX9TyMHoMuLsOuYFTj/Nad5EpnF",
      "include_colab_link": true
    },
    "kernelspec": {
      "name": "python3",
      "display_name": "Python 3"
    },
    "language_info": {
      "name": "python"
    }
  },
  "cells": [
    {
      "cell_type": "markdown",
      "metadata": {
        "id": "view-in-github",
        "colab_type": "text"
      },
      "source": [
        "<a href=\"https://colab.research.google.com/github/eli-mancini/SnowMachine/blob/main/UPDATEconfig.ipynb\" target=\"_parent\"><img src=\"https://colab.research.google.com/assets/colab-badge.svg\" alt=\"Open In Colab\"/></a>"
      ]
    },
    {
      "cell_type": "code",
      "execution_count": 2,
      "metadata": {
        "colab": {
          "base_uri": "https://localhost:8080/"
        },
        "id": "dm7ZzBmlCM9V",
        "outputId": "6d943fe7-60fa-4caa-cc68-197c1c17e627"
      },
      "outputs": [
        {
          "output_type": "stream",
          "name": "stdout",
          "text": [
            "Drive already mounted at /content/drive; to attempt to forcibly remount, call drive.mount(\"/content/drive\", force_remount=True).\n"
          ]
        }
      ],
      "source": [
        "import torch\n",
        "import os\n",
        "import google\n",
        "from google.colab import drive\n",
        "drive.mount('/content/drive')\n",
        "\n",
        "### THESE PATHS ARE FOR THE DEMO NONTRAINED DATA; PLEASE UPDATE WITH OWN PATHS\"\n",
        "### All in snowpoles_data\n",
        "ROOT_PATH = '/content/drive/MyDrive/starting_100'\n",
        "OUTPUT_PATH = '/content/drive/MyDrive/newmodel'  ## the folder where you want to store your custom model\n",
        "metadata = './example_nontrained_data/pole_metadata.csv'\n",
        "labels = './example_nontrained_data/labels.csv'\n",
        "\n",
        "# learning parameters\n",
        "BATCH_SIZE = 64\n",
        "LR = 0.0001\n",
        "EPOCHS = 20 #1000\n",
        "DEVICE = torch.device('cuda' if torch.cuda.is_available() else 'cpu')\n",
        "# train/test split\n",
        "TEST_SPLIT = 0.2\n",
        "# show dataset keypoint plot\n",
        "SHOW_DATASET_PLOT = False\n",
        "AUG = True\n",
        "\n",
        "keypointColumns = ['x1', 'y1', 'x2', 'y2'] ## update\n",
        "\n",
        "# Fine-tuning set-up\n",
        "## make sure to download model from Zenodo\n",
        "FINETUNE = True\n",
        "FT_PATH = './models/CO_and_WA_model.pth'"
      ]
    }
  ]
}
