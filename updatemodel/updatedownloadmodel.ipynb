{
  "nbformat": 4,
  "nbformat_minor": 0,
  "metadata": {
    "colab": {
      "provenance": [],
      "authorship_tag": "ABX9TyOS/G8d+EHkSWC3O3vEf2n1",
      "include_colab_link": true
    },
    "kernelspec": {
      "name": "python3",
      "display_name": "Python 3"
    },
    "language_info": {
      "name": "python"
    }
  },
  "cells": [
    {
      "cell_type": "markdown",
      "metadata": {
        "id": "view-in-github",
        "colab_type": "text"
      },
      "source": [
        "<a href=\"https://colab.research.google.com/github/eli-mancini/SnowMachine/blob/main/updatedownloadmodel.ipynb\" target=\"_parent\"><img src=\"https://colab.research.google.com/assets/colab-badge.svg\" alt=\"Open In Colab\"/></a>"
      ]
    },
    {
      "cell_type": "code",
      "execution_count": 1,
      "metadata": {
        "colab": {
          "base_uri": "https://localhost:8080/"
        },
        "id": "pEjtBOjbrjPT",
        "outputId": "c2ab904e-a62c-4437-8ca2-7d10cd1639bb"
      },
      "outputs": [
        {
          "output_type": "stream",
          "name": "stdout",
          "text": [
            "\n",
            " models download! \n",
            "\n"
          ]
        }
      ],
      "source": [
        "\n",
        "'''\n",
        "This script will download the folder with the model to a folder called \"model\".\n",
        "We will use the wget command to download the zip folder.\n",
        "'''\n",
        "\n",
        "\n",
        "import os\n",
        "\n",
        "def download_models():\n",
        "    '''\n",
        "    see the Zenodo page for the latest models\n",
        "    '''\n",
        "    root =  os.getcwd()\n",
        "    save_path = f\"{root}/models\"\n",
        "    if not os.path.exists(save_path):\n",
        "        os.makedirs(save_path, exist_ok=True)\n",
        "    url = 'https://zenodo.org/records/12764696/files/CO_and_WA_model.pth'\n",
        "\n",
        "    # download if does not exist\n",
        "    if not os.path.exists(f'{save_path}/CO_and_WA_model.pth'):\n",
        "        wget_command = f'wget {url} -P {save_path}'\n",
        "        os.system(wget_command)\n",
        "        return print('\\n models download! \\n')\n",
        "    else:\n",
        "        return print('model already saved')\n",
        "\n",
        "download_models()"
      ]
    }
  ]
}
